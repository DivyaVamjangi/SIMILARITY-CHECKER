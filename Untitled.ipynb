{
 "cells": [
  {
   "cell_type": "code",
   "execution_count": 1,
   "id": "9e5d028e",
   "metadata": {},
   "outputs": [],
   "source": [
    "from flask import Flask, render_template, request\n",
    "from sentence_transformers import SentenceTransformer, util \n",
    "import numpy as np\n",
    "import pandas as pd\n",
    "import pickle"
   ]
  },
  {
   "cell_type": "code",
   "execution_count": null,
   "id": "4816cbb4",
   "metadata": {},
   "outputs": [],
   "source": [
    "model = SentenceTransformer('stsb-roberta-large')"
   ]
  },
  {
   "cell_type": "code",
   "execution_count": 2,
   "id": "5336ad5a",
   "metadata": {},
   "outputs": [],
   "source": [
    "# filename = 'similarity.pkl'\n",
    "# model = pickle.load(open(filename, 'rb'))"
   ]
  },
  {
   "cell_type": "code",
   "execution_count": null,
   "id": "64a7cbe2",
   "metadata": {},
   "outputs": [
    {
     "name": "stdout",
     "output_type": "stream",
     "text": [
      " * Serving Flask app \"__main__\" (lazy loading)\n",
      " * Environment: production\n",
      "\u001b[31m   WARNING: This is a development server. Do not use it in a production deployment.\u001b[0m\n",
      "\u001b[2m   Use a production WSGI server instead.\u001b[0m\n",
      " * Debug mode: off\n"
     ]
    },
    {
     "name": "stderr",
     "output_type": "stream",
     "text": [
      " * Running on http://127.0.0.1:5000/ (Press CTRL+C to quit)\n",
      "127.0.0.1 - - [17/Jul/2021 00:45:56] \"\u001b[37mGET / HTTP/1.1\u001b[0m\" 200 -\n",
      "[2021-07-17 00:46:11,294] ERROR in app: Exception on /predict [POST]\n",
      "Traceback (most recent call last):\n",
      "  File \"G:\\anaconda\\lib\\site-packages\\flask\\app.py\", line 2447, in wsgi_app\n",
      "    response = self.full_dispatch_request()\n",
      "  File \"G:\\anaconda\\lib\\site-packages\\flask\\app.py\", line 1952, in full_dispatch_request\n",
      "    rv = self.handle_user_exception(e)\n",
      "  File \"G:\\anaconda\\lib\\site-packages\\flask\\app.py\", line 1821, in handle_user_exception\n",
      "    reraise(exc_type, exc_value, tb)\n",
      "  File \"G:\\anaconda\\lib\\site-packages\\flask\\_compat.py\", line 39, in reraise\n",
      "    raise value\n",
      "  File \"G:\\anaconda\\lib\\site-packages\\flask\\app.py\", line 1950, in full_dispatch_request\n",
      "    rv = self.dispatch_request()\n",
      "  File \"G:\\anaconda\\lib\\site-packages\\flask\\app.py\", line 1936, in dispatch_request\n",
      "    return self.view_functions[rule.endpoint](**req.view_args)\n",
      "  File \"<ipython-input-3-06d649983bdd>\", line 12, in predict\n",
      "    embedding1 = model.encode(sentence1, convert_to_tensor=True)\n",
      "  File \"G:\\anaconda\\lib\\site-packages\\sentence_transformers\\SentenceTransformer.py\", line 148, in encode\n",
      "    self.to(device)\n",
      "  File \"G:\\anaconda\\lib\\site-packages\\torch\\nn\\modules\\module.py\", line 607, in to\n",
      "    return self._apply(convert)\n",
      "  File \"G:\\anaconda\\lib\\site-packages\\torch\\nn\\modules\\module.py\", line 354, in _apply\n",
      "    module._apply(fn)\n",
      "  File \"G:\\anaconda\\lib\\site-packages\\torch\\nn\\modules\\module.py\", line 354, in _apply\n",
      "    module._apply(fn)\n",
      "  File \"G:\\anaconda\\lib\\site-packages\\torch\\nn\\modules\\module.py\", line 354, in _apply\n",
      "    module._apply(fn)\n",
      "  [Previous line repeated 1 more time]\n",
      "  File \"G:\\anaconda\\lib\\site-packages\\torch\\nn\\modules\\module.py\", line 376, in _apply\n",
      "    param_applied = fn(param)\n",
      "  File \"G:\\anaconda\\lib\\site-packages\\torch\\nn\\modules\\module.py\", line 605, in convert\n",
      "    return t.to(device, dtype if t.is_floating_point() else None, non_blocking)\n",
      "  File \"G:\\anaconda\\lib\\site-packages\\torch\\cuda\\__init__.py\", line 186, in _lazy_init\n",
      "    _check_driver()\n",
      "  File \"G:\\anaconda\\lib\\site-packages\\torch\\cuda\\__init__.py\", line 61, in _check_driver\n",
      "    raise AssertionError(\"Torch not compiled with CUDA enabled\")\n",
      "AssertionError: Torch not compiled with CUDA enabled\n",
      "127.0.0.1 - - [17/Jul/2021 00:46:11] \"\u001b[35m\u001b[1mPOST /predict HTTP/1.1\u001b[0m\" 500 -\n"
     ]
    }
   ],
   "source": [
    "app = Flask(__name__)\n",
    "\n",
    "@app.route('/')\n",
    "def home():\n",
    "\treturn render_template('sample.html')\n",
    "\n",
    "@app.route('/predict',methods=['POST'])\n",
    "def predict():\n",
    "    if request.method == 'POST':\n",
    "    \tsentence1 = request.form['message1']\n",
    "    \tsentence2 = request.form['message2']\n",
    "    \tembedding1 = model.encode(sentence1, convert_to_tensor=True)\n",
    "    \tembedding2 = model.encode(sentence2, convert_to_tensor=True)\n",
    "    \tcosine_scores = util.pytorch_cos_sim(embedding1, embedding2)\n",
    "    \treturn render_template('sample.html', cosine_score=cosine_scores.item())\n",
    "\n",
    "if __name__ == '__main__':\n",
    "\tapp.run(debug=False)"
   ]
  },
  {
   "cell_type": "code",
   "execution_count": null,
   "id": "ef5d5cf7",
   "metadata": {},
   "outputs": [],
   "source": []
  },
  {
   "cell_type": "code",
   "execution_count": null,
   "id": "f1f64fb3",
   "metadata": {},
   "outputs": [],
   "source": []
  },
  {
   "cell_type": "code",
   "execution_count": null,
   "id": "27813b58",
   "metadata": {},
   "outputs": [],
   "source": []
  },
  {
   "cell_type": "code",
   "execution_count": null,
   "id": "23309dcf",
   "metadata": {},
   "outputs": [],
   "source": []
  },
  {
   "cell_type": "code",
   "execution_count": null,
   "id": "11fc3f6e",
   "metadata": {},
   "outputs": [],
   "source": []
  }
 ],
 "metadata": {
  "kernelspec": {
   "display_name": "Python 3",
   "language": "python",
   "name": "python3"
  },
  "language_info": {
   "codemirror_mode": {
    "name": "ipython",
    "version": 3
   },
   "file_extension": ".py",
   "mimetype": "text/x-python",
   "name": "python",
   "nbconvert_exporter": "python",
   "pygments_lexer": "ipython3",
   "version": "3.8.10"
  }
 },
 "nbformat": 4,
 "nbformat_minor": 5
}
